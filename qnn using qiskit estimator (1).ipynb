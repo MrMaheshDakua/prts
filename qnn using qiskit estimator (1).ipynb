{
 "cells": [
  {
   "cell_type": "code",
   "execution_count": null,
   "id": "75b2fafe-5522-4d75-b4f4-365e8401810a",
   "metadata": {},
   "outputs": [],
   "source": [
    "from qiskit_algorithms.utils import algorithm_globals\n",
    "\n",
    "algorithm_globals.random_seed = 42"
   ]
  },
  {
   "cell_type": "code",
   "execution_count": null,
   "id": "59e11b90-118a-41ba-8019-0417e0a69608",
   "metadata": {},
   "outputs": [],
   "source": [
    "from qiskit.circuit import Parameter\n",
    "from qiskit import QuantumCircuit\n",
    "\n",
    "params1 = [Parameter(\"input1\"), Parameter(\"weight1\")]\n",
    "qc1 = QuantumCircuit(1)\n",
    "qc1.h(0)\n",
    "qc1.ry(params1[0], 0)\n",
    "qc1.rx(params1[1], 0)\n",
    "qc1.draw(\"mpl\", style=\"clifford\")"
   ]
  },
  {
   "cell_type": "code",
   "execution_count": null,
   "id": "ce299a66-1b0e-4945-8fff-e639fa59e6d0",
   "metadata": {},
   "outputs": [],
   "source": [
    "from qiskit.quantum_info import SparsePauliOp\n",
    "\n",
    "observable1 = SparsePauliOp.from_list([(\"Y\" * qc1.num_qubits, 1)])"
   ]
  },
  {
   "cell_type": "code",
   "execution_count": null,
   "id": "144f33b0-ee56-483b-8d03-6504a2c76f30",
   "metadata": {},
   "outputs": [],
   "source": [
    "from qiskit_machine_learning.neural_networks import EstimatorQNN\n",
    "\n",
    "estimator_qnn = EstimatorQNN(\n",
    "    circuit=qc1, observables=observable1, input_params=[params1[0]], weight_params=[params1[1]]\n",
    ")\n",
    "estimator_qnn"
   ]
  },
  {
   "cell_type": "code",
   "execution_count": null,
   "id": "9000feb8-de14-4af7-ab77-2dbea9e87627",
   "metadata": {},
   "outputs": [],
   "source": [
    "estimator_qnn_input = algorithm_globals.random.random(estimator_qnn.num_inputs)\n",
    "estimator_qnn_weights = algorithm_globals.random.random(estimator_qnn.num_weights)"
   ]
  },
  {
   "cell_type": "code",
   "execution_count": null,
   "id": "2cafbb76-f4a3-40ca-8a45-e9eba2852afe",
   "metadata": {},
   "outputs": [],
   "source": [
    "print(\n",
    "    f\"Number of input features for EstimatorQNN: {estimator_qnn.num_inputs} \\nInput: {estimator_qnn_input}\"\n",
    ")\n",
    "print(\n",
    "    f\"Number of trainable weights for EstimatorQNN: {estimator_qnn.num_weights} \\nWeights: {estimator_qnn_weights}\"\n",
    ")"
   ]
  },
  {
   "cell_type": "code",
   "execution_count": null,
   "id": "947f01a2-4c6b-4669-8b80-1613aaf2ca82",
   "metadata": {},
   "outputs": [],
   "source": [
    "estimator_qnn_forward = estimator_qnn.forward(estimator_qnn_input, estimator_qnn_weights)\n",
    "\n",
    "print(\n",
    "    f\"Forward pass result for EstimatorQNN: {estimator_qnn_forward}. \\nShape: {estimator_qnn_forward.shape}\"\n",
    ")"
   ]
  },
  {
   "cell_type": "code",
   "execution_count": null,
   "id": "07a8d076-35d2-4517-aac1-f3a272e5436a",
   "metadata": {},
   "outputs": [],
   "source": [
    "estimator_qnn_forward_batched = estimator_qnn.forward(\n",
    "    [estimator_qnn_input, estimator_qnn_input], estimator_qnn_weights\n",
    ")\n",
    "\n",
    "print(\n",
    "    f\"Forward pass result for EstimatorQNN: {estimator_qnn_forward_batched}.  \\nShape: {estimator_qnn_forward_batched.shape}\"\n",
    ")"
   ]
  },
  {
   "cell_type": "code",
   "execution_count": null,
   "id": "e8a5b3af-c491-4b38-b4b8-c1dc8cf96c8f",
   "metadata": {},
   "outputs": [],
   "source": [
    "estimator_qnn_input_grad, estimator_qnn_weight_grad = estimator_qnn.backward(\n",
    "    estimator_qnn_input, estimator_qnn_weights\n",
    ")\n",
    "\n",
    "print(\n",
    "    f\"Input gradients for EstimatorQNN: {estimator_qnn_input_grad}.  \\nShape: {estimator_qnn_input_grad}\"\n",
    ")\n",
    "print(\n",
    "    f\"Weight gradients for EstimatorQNN: {estimator_qnn_weight_grad}.  \\nShape: {estimator_qnn_weight_grad.shape}\"\n",
    ")"
   ]
  },
  {
   "cell_type": "code",
   "execution_count": null,
   "id": "e6900f9b-9406-4763-8226-4e36e83ab267",
   "metadata": {},
   "outputs": [],
   "source": [
    "estimator_qnn.input_gradients = True\n",
    "sampler_qnn.input_gradients = True"
   ]
  },
  {
   "cell_type": "code",
   "execution_count": null,
   "id": "5c0afd10-b948-4651-af2d-1b729008a35b",
   "metadata": {},
   "outputs": [],
   "source": [
    "estimator_qnn_input_grad, estimator_qnn_weight_grad = estimator_qnn.backward(\n",
    "    estimator_qnn_input, estimator_qnn_weights\n",
    ")\n",
    "\n",
    "print(\n",
    "    f\"Input gradients for EstimatorQNN: {estimator_qnn_input_grad}.  \\nShape: {estimator_qnn_input_grad.shape}\"\n",
    ")\n",
    "print(\n",
    "    f\"Weight gradients for EstimatorQNN: {estimator_qnn_weight_grad}.  \\nShape: {estimator_qnn_weight_grad.shape}\"\n",
    ")"
   ]
  },
  {
   "cell_type": "code",
   "execution_count": null,
   "id": "9084d121-3906-483e-8cf9-896b323edd23",
   "metadata": {},
   "outputs": [],
   "source": [
    "observable2 = SparsePauliOp.from_list([(\"Z\" * qc1.num_qubits, 1)])\n",
    "\n",
    "estimator_qnn2 = EstimatorQNN(\n",
    "    circuit=qc1,\n",
    "    observables=[observable1, observable2],\n",
    "    input_params=[params1[0]],\n",
    "    weight_params=[params1[1]],\n",
    ")"
   ]
  },
  {
   "cell_type": "code",
   "execution_count": null,
   "id": "ed3f1627-6f0e-41af-9582-a43fc920ee78",
   "metadata": {},
   "outputs": [],
   "source": [
    "estimator_qnn_forward2 = estimator_qnn2.forward(estimator_qnn_input, estimator_qnn_weights)\n",
    "estimator_qnn_input_grad2, estimator_qnn_weight_grad2 = estimator_qnn2.backward(\n",
    "    estimator_qnn_input, estimator_qnn_weights\n",
    ")\n",
    "\n",
    "print(f\"Forward output for EstimatorQNN1: {estimator_qnn_forward.shape}\")\n",
    "print(f\"Forward output for EstimatorQNN2: {estimator_qnn_forward2.shape}\")\n",
    "print(f\"Backward output for EstimatorQNN1: {estimator_qnn_weight_grad.shape}\")\n",
    "print(f\"Backward output for EstimatorQNN2: {estimator_qnn_weight_grad2.shape}\")"
   ]
  },
  {
   "cell_type": "code",
   "execution_count": null,
   "id": "2741df56-2bae-496f-bdc0-dd6ac6773fe0",
   "metadata": {},
   "outputs": [],
   "source": []
  }
 ],
 "metadata": {
  "kernelspec": {
   "display_name": "Python 3 (ipykernel)",
   "language": "python",
   "name": "python3"
  },
  "language_info": {
   "codemirror_mode": {
    "name": "ipython",
    "version": 3
   },
   "file_extension": ".py",
   "mimetype": "text/x-python",
   "name": "python",
   "nbconvert_exporter": "python",
   "pygments_lexer": "ipython3",
   "version": "3.10.12"
  }
 },
 "nbformat": 4,
 "nbformat_minor": 5
}
